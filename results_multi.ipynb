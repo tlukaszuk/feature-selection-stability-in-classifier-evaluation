{
 "cells": [
  {
   "cell_type": "code",
   "execution_count": null,
   "metadata": {},
   "outputs": [],
   "source": [
    "import pandas as pd\n",
    "import numpy as np\n",
    "import matplotlib.pyplot as plt\n",
    "\n",
    "\n",
    "files = [\n",
    "    \"results_breast.csv\",\n",
    "    \"results_prostate.csv\",\n",
    "    \"results_renal.csv\",\n",
    "    \"results_thoat.csv\"\n",
    "]\n",
    "\n",
    "df_results = pd.concat([pd.read_csv(f\"results/multi_classifiers/{f}\") for f in files])\n",
    "df_results['model'] = df_results.classifier.apply(lambda s: s[:s.find(' (')])\n",
    "df_results['params'] = df_results.classifier.apply(lambda s: s[s.find(' ('):])\n",
    "df_results.head()"
   ]
  },
  {
   "cell_type": "code",
   "execution_count": null,
   "metadata": {},
   "outputs": [],
   "source": [
    "# Table with average stability values for the classifiers and datasets tested\n",
    "\n",
    "df_stability = pd.DataFrame(columns=np.unique(df_results.dataset))\n",
    "for model in np.unique(df_results.model):\n",
    "    mean_stabilities = [df_results[(df_results.model==model) & (df_results.dataset==dataset)].Lustgarten.mean() for dataset in df_stability.columns]\n",
    "    df_stability.loc[model] = mean_stabilities\n",
    "\n",
    "df_stability"
   ]
  },
  {
   "cell_type": "code",
   "execution_count": null,
   "metadata": {},
   "outputs": [],
   "source": [
    "# Table with average test accuracy values for tested classifiers and datasets\n",
    "\n",
    "df_acc = pd.DataFrame(columns=np.unique(df_results.dataset))\n",
    "for model in np.unique(df_results.model):\n",
    "    mean_acc = [df_results[(df_results.model==model) & (df_results.dataset==dataset)].acc_test.mean() for dataset in df_acc.columns]\n",
    "    df_acc.loc[model] = mean_acc\n",
    "\n",
    "df_acc"
   ]
  },
  {
   "cell_type": "code",
   "execution_count": null,
   "metadata": {},
   "outputs": [],
   "source": [
    "# Harmonic mean stability and test accuracy\n",
    "\n",
    "df_harm_mean = pd.DataFrame(columns=np.unique(df_results.dataset))\n",
    "values = 2/(1/df_acc.values + 1/df_stability.values)\n",
    "for model,v in zip(np.unique(df_results.model), values):\n",
    "    df_harm_mean.loc[model] = v\n",
    "\n",
    "df_harm_mean"
   ]
  },
  {
   "cell_type": "code",
   "execution_count": null,
   "metadata": {},
   "outputs": [],
   "source": [
    "# Generate graphs of the dependence of the parameters A, B, C, D on the value of p\n",
    "# A - Lustgarten features selection stability\n",
    "# B - Nogueira features selection stability\n",
    "# C - Average number of selected features\n",
    "# D - Test accuracy\n",
    "\n",
    "datasets_num = len(df_results['dataset'].unique())\n",
    "fig, axes = plt.subplots(datasets_num, 4, figsize=(16, 4*datasets_num))\n",
    "\n",
    "for i, (dataset, df_dataset) in enumerate(df_results.groupby(['dataset'])):\n",
    "    ax = axes[i]\n",
    "    for model_name, df in df_dataset.groupby(['model']):\n",
    "        label = f\"{model_name}\"\n",
    "        ax[0].plot(df.p, df['Lustgarten'], label=label)\n",
    "        ax[1].plot(df.p, df['Nogueira'], label=label)\n",
    "        ax[2].plot(df.p, df['#features_mean'], label=label)\n",
    "        ax[3].plot(df.p, df['acc_test'], label=label)\n",
    "        \n",
    "        ax[0].set_ylabel(f\"{dataset}\\n\", fontsize=16)\n",
    "        if i==0:\n",
    "            ax[0].set_title(\"Lustgarten features selection stability\\n\", fontsize=12)\n",
    "            ax[1].set_title(\"Nogueira features selection stability\\n\", fontsize=12)\n",
    "            ax[2].set_title(\"Average number of selected features\\n\", fontsize=12)\n",
    "            ax[3].set_title(\"Test accuracy\\n\", fontsize=12)\n",
    "\n",
    "        ax[0].set_ylim([0, 1.0])\n",
    "        ax[1].set_ylim([0, 1.0])\n",
    "        ax[3].set_ylim([0.6, 1.0])\n",
    "        if dataset == \"Breast\":\n",
    "            ax[2].set_ylim([55, 68])\n",
    "        elif dataset == \"Prostate\":\n",
    "            ax[2].set_ylim([20, 32])\n",
    "        elif dataset == \"Renal\":\n",
    "            ax[2].set_ylim([20, 32])\n",
    "        elif dataset == \"Throat\":\n",
    "            ax[2].set_ylim([20, 32])\n",
    "\n",
    "handles, labels = ax[0].get_legend_handles_labels()\n",
    "fig.legend(handles, labels, loc='lower center', ncol=4)"
   ]
  }
 ],
 "metadata": {
  "kernelspec": {
   "display_name": "Python 3",
   "language": "python",
   "name": "python3"
  },
  "language_info": {
   "codemirror_mode": {
    "name": "ipython",
    "version": 3
   },
   "file_extension": ".py",
   "mimetype": "text/x-python",
   "name": "python",
   "nbconvert_exporter": "python",
   "pygments_lexer": "ipython3",
   "version": "3.9.7"
  },
  "vscode": {
   "interpreter": {
    "hash": "67bc2e0840da1a9989d13060dc225cad85b5f20e4885f22872dbf1c9dc19fb33"
   }
  }
 },
 "nbformat": 4,
 "nbformat_minor": 4
}
