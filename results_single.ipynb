{
 "cells": [
  {
   "cell_type": "code",
   "execution_count": null,
   "metadata": {},
   "outputs": [],
   "source": [
    "import pandas as pd\n",
    "import matplotlib.pyplot as plt\n",
    "\n",
    "files = [\n",
    "    \"results_lr.csv\",\n",
    "    \"results_cpl.csv\",\n",
    "    \"results_rf.csv\",\n",
    "    \"results_svm.csv\"\n",
    "]\n",
    "\n",
    "df_results = pd.concat([pd.read_csv(f\"results/single_classifier/{f}\") for f in files])\n",
    "df_results['model'] = df_results.classifier.apply(lambda s:s[:s.find(' (')])\n",
    "df_results['params'] = df_results.classifier.apply(lambda s:s[s.find(' ('):])\n",
    "df_results['model_type'] = df_results.classifier.apply(lambda s:s[:s.find('_')])\n",
    "df_results.head()"
   ]
  },
  {
   "cell_type": "code",
   "execution_count": null,
   "metadata": {},
   "outputs": [],
   "source": [
    "# Generate graphs of the dependence of the parameters A, B, C, D on the value of p\n",
    "# A - Lustgarten features selection stability\n",
    "# B - Nogueira features selection stability\n",
    "# C - Average number of selected features\n",
    "# D - Test accuracy\n",
    "\n",
    "for model_type, df_results_mt in df_results.groupby(['model_type']):\n",
    "    datasets_num = len(df_results_mt['dataset'].unique())\n",
    "    fig, axes = plt.subplots(datasets_num, 4, figsize=(16, 4*datasets_num))\n",
    "    for i, (dataset, df_dataset) in enumerate(df_results_mt.groupby(['dataset'])):\n",
    "        ax = axes[i]\n",
    "        for params, df in df_dataset.groupby(['model']):\n",
    "            label = f\"{params}\"\n",
    "            ax[0].plot(df.p, df['Lustgarten'], label=label)\n",
    "            ax[1].plot(df.p, df['Nogueira'], label=label)\n",
    "            ax[2].plot(df.p, df['#features_mean'], label=label)\n",
    "            ax[3].plot(df.p, df['acc_test'], label=label)\n",
    "            \n",
    "            ax[0].set_ylabel(f\"{dataset}\\n\", fontsize=16)\n",
    "            if i==0:\n",
    "                ax[0].set_title(\"Lustgarten features selection stability\\n\", fontsize=12)\n",
    "                ax[1].set_title(\"Nogueira features selection stability\\n\", fontsize=12)\n",
    "                ax[2].set_title(\"Average number of selected features\\n\", fontsize=12)\n",
    "                ax[3].set_title(\"Test accuracy\\n\", fontsize=12)\n",
    "\n",
    "            ax[0].set_ylim([0, 1.0])\n",
    "            ax[1].set_ylim([0, 1.0])\n",
    "            ax[3].set_ylim([0.6, 1.0])\n",
    "            if model_type == \"LogisticRegression\":\n",
    "                ax[2].set_ylim([0, 500])\n",
    "            elif model_type == \"SVM\":\n",
    "                ax[2].set_ylim([0, 200])\n",
    "            elif model_type == \"RandomForest\":\n",
    "                ax[2].set_ylim([0, 200])\n",
    "            elif model_type == \"CPL\":\n",
    "                ax[2].set_ylim([0, 50])\n",
    "\n",
    "    handles, labels = ax[0].get_legend_handles_labels()\n",
    "    fig.legend(handles, labels, loc='lower center', ncol=5)\n"
   ]
  }
 ],
 "metadata": {
  "kernelspec": {
   "display_name": "Python 3",
   "language": "python",
   "name": "python3"
  },
  "language_info": {
   "codemirror_mode": {
    "name": "ipython",
    "version": 3
   },
   "file_extension": ".py",
   "mimetype": "text/x-python",
   "name": "python",
   "nbconvert_exporter": "python",
   "pygments_lexer": "ipython3",
   "version": "3.9.7"
  },
  "vscode": {
   "interpreter": {
    "hash": "67bc2e0840da1a9989d13060dc225cad85b5f20e4885f22872dbf1c9dc19fb33"
   }
  }
 },
 "nbformat": 4,
 "nbformat_minor": 4
}
